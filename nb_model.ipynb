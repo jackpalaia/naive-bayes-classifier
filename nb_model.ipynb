{
 "metadata": {
  "language_info": {
   "codemirror_mode": {
    "name": "ipython",
    "version": 3
   },
   "file_extension": ".py",
   "mimetype": "text/x-python",
   "name": "python",
   "nbconvert_exporter": "python",
   "pygments_lexer": "ipython3",
   "version": 3
  },
  "orig_nbformat": 2,
  "kernelspec": {
   "name": "python_defaultSpec_1596643576800",
   "display_name": "Python 3.8.2 64-bit"
  }
 },
 "nbformat": 4,
 "nbformat_minor": 2,
 "cells": [
  {
   "cell_type": "code",
   "execution_count": 18,
   "metadata": {},
   "outputs": [],
   "source": [
    "import pandas as pd\n",
    "from sklearn.model_selection import train_test_split\n",
    "from sklearn.feature_extraction.text import CountVectorizer\n",
    "cleaned_news = pd.read_csv('cleaned_news.csv')\n",
    "cleaned_news.head()\n",
    "DV = \"fake_news\"\n",
    "X = cleaned_news.drop([DV], axis=1)\n",
    "y = cleaned_news[DV]\n",
    "X_train, X_test, y_train, y_test = train_test_split(X, y, test_size=0.25)"
   ]
  },
  {
   "cell_type": "code",
   "execution_count": null,
   "metadata": {
    "tags": []
   },
   "outputs": [],
   "source": [
    "count_vector = CountVectorizer(max_features=5000)\n",
    "X_train_counts = count_vector.fit_transform(X_train['text'])\n",
    "X_test = count_vector.transform(X_test['text'])"
   ]
  },
  {
   "cell_type": "code",
   "execution_count": 21,
   "metadata": {
    "tags": []
   },
   "outputs": [
    {
     "output_type": "stream",
     "name": "stdout",
     "text": "accuracy score 93.99179889463363\n"
    }
   ],
   "source": [
    "from sklearn.naive_bayes import MultinomialNB\n",
    "from sklearn.metrics import accuracy_score\n",
    "Naive = MultinomialNB()\n",
    "Naive.fit(X_train_counts, y_train)\n",
    "predictions_NB = Naive.predict(X_test)\n",
    "print('accuracy score', accuracy_score(predictions_NB, y_test) * 100)"
   ]
  },
  {
   "cell_type": "code",
   "execution_count": null,
   "metadata": {},
   "outputs": [],
   "source": [
    "onion = [\"\"\"Calling the country singer’s place at the top of Top 200 completely illegitimate, fans of the \n",
    "            rapper–singer Drake took to social media Friday to accuse Kenny Chesney of manipulating Billboard’s \n",
    "            algorithm by putting effort into his album. “It’s just unfair that this guy could keep Drake from his\n",
    "            rightful place on the charts by putting out quality music that he actually cares about,” said Aiden \n",
    "            Howard, 14, who echoed the sentiments of Drake fans worldwide in his assertion that the artist’s \n",
    "            mediocre B-sides deserved more acclaim and recognition. “He clearly gamed the streaming numbers when \n",
    "            he decided to put time and energy into his craft. It’s such horseshit that Billboard rewards that \n",
    "            behavior and punishes Drizzy for making a half-assed mixtape full of songs he’d already dropped on \n",
    "            SoundCloud. How the hell is ‘Toosie Slide’ going to compare to a song that the artist thought about \n",
    "            for more than 15 minutes?” At press time, Drake released a statement asking fans to ignore Kenny \n",
    "            Chesney and focus on the horseshit that he just released.\"\"\"]\n",
    "onion_vec = count_vector.transform(onion)\n",
    "print(onion_vec)"
   ]
  }
 ]
}
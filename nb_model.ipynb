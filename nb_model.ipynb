{
 "metadata": {
  "language_info": {
   "codemirror_mode": {
    "name": "ipython",
    "version": 3
   },
   "file_extension": ".py",
   "mimetype": "text/x-python",
   "name": "python",
   "nbconvert_exporter": "python",
   "pygments_lexer": "ipython3",
   "version": 3
  },
  "orig_nbformat": 2,
  "kernelspec": {
   "name": "python_defaultSpec_1596643576800",
   "display_name": "Python 3.8.2 64-bit"
  }
 },
 "nbformat": 4,
 "nbformat_minor": 2,
 "cells": [
  {
   "cell_type": "code",
   "execution_count": 34,
   "metadata": {},
   "outputs": [
    {
     "output_type": "execute_result",
     "data": {
      "text/plain": "                                                    text\n0      Donald Trump just couldn t wish all Americans ...\n1      House Intelligence Committee Chairman Devin Nu...\n2      On Friday, it was revealed that former Milwauk...\n3      On Christmas day, Donald Trump announced that ...\n4      Pope Francis used his annual Christmas Day mes...\n...                                                  ...\n44864  NATO allies on Tuesday welcomed President Dona...\n44865  LexisNexis, a provider of legal, regulatory an...\n44866  In the shadow of disused Soviet-era factories ...\n44867  Vatican Secretary of State Cardinal Pietro Par...\n44868  Indonesia will buy 11 Sukhoi fighter jets wort...\n\n[44869 rows x 1 columns]",
      "text/html": "<div>\n<style scoped>\n    .dataframe tbody tr th:only-of-type {\n        vertical-align: middle;\n    }\n\n    .dataframe tbody tr th {\n        vertical-align: top;\n    }\n\n    .dataframe thead th {\n        text-align: right;\n    }\n</style>\n<table border=\"1\" class=\"dataframe\">\n  <thead>\n    <tr style=\"text-align: right;\">\n      <th></th>\n      <th>text</th>\n    </tr>\n  </thead>\n  <tbody>\n    <tr>\n      <th>0</th>\n      <td>Donald Trump just couldn t wish all Americans ...</td>\n    </tr>\n    <tr>\n      <th>1</th>\n      <td>House Intelligence Committee Chairman Devin Nu...</td>\n    </tr>\n    <tr>\n      <th>2</th>\n      <td>On Friday, it was revealed that former Milwauk...</td>\n    </tr>\n    <tr>\n      <th>3</th>\n      <td>On Christmas day, Donald Trump announced that ...</td>\n    </tr>\n    <tr>\n      <th>4</th>\n      <td>Pope Francis used his annual Christmas Day mes...</td>\n    </tr>\n    <tr>\n      <th>...</th>\n      <td>...</td>\n    </tr>\n    <tr>\n      <th>44864</th>\n      <td>NATO allies on Tuesday welcomed President Dona...</td>\n    </tr>\n    <tr>\n      <th>44865</th>\n      <td>LexisNexis, a provider of legal, regulatory an...</td>\n    </tr>\n    <tr>\n      <th>44866</th>\n      <td>In the shadow of disused Soviet-era factories ...</td>\n    </tr>\n    <tr>\n      <th>44867</th>\n      <td>Vatican Secretary of State Cardinal Pietro Par...</td>\n    </tr>\n    <tr>\n      <th>44868</th>\n      <td>Indonesia will buy 11 Sukhoi fighter jets wort...</td>\n    </tr>\n  </tbody>\n</table>\n<p>44869 rows × 1 columns</p>\n</div>"
     },
     "metadata": {},
     "execution_count": 34
    }
   ],
   "source": [
    "import pandas as pd\n",
    "from sklearn.model_selection import train_test_split\n",
    "from sklearn.feature_extraction.text import CountVectorizer\n",
    "cleaned_news = pd.read_csv('data/cleaned_news.csv')\n",
    "DV = \"fake_news\"\n",
    "X = cleaned_news.drop([DV], axis=1)\n",
    "y = cleaned_news[DV]\n",
    "X_train, X_test, y_train, y_test = train_test_split(X, y, test_size=0.25)"
   ]
  },
  {
   "cell_type": "code",
   "execution_count": 29,
   "metadata": {
    "tags": []
   },
   "outputs": [],
   "source": [
    "count_vector = CountVectorizer(max_features=5000)\n",
    "X_train_counts = count_vector.fit_transform(X_train['text'])\n",
    "X_test = count_vector.transform(X_test['text'])"
   ]
  },
  {
   "cell_type": "code",
   "execution_count": 35,
   "metadata": {
    "tags": []
   },
   "outputs": [
    {
     "output_type": "error",
     "ename": "ValueError",
     "evalue": "could not convert string to float: 'Tune in to the Alternate Current Radio Network (ACR) for another LIVE broadcast of  The Boiler Room  tonight 6:00 PM PST | 8:00 PM CST | 9:00 PM EST for this special broadcast. Join us for uncensored, uninterruptible talk radio, custom-made for bar fly philosophers, misguided moralists, masochists, street corner evangelists, media-maniacs, savants, political animals and otherwise lovable rascals.Join ACR hosts Hesher and Spore along side Jay Dyer of Jays Analysis, Daniel Spaulding (of Soul of the East) Andy Nowicki (The Nameless One.) Randy J & Fvnk$oul (ACR & 21Wire Contributors) for the hundred and thirty third episode of BOILER ROOM. Turn it up, tune in and hang with the ACR Brain-Trust for this weeks boil downs and analysis and the usual gnashing of the teeth of the political animals in the social reject club.On this episode of Boiler Room the ACR Brain-Trust is kicking back with a Halloween vibe, discussing the absurdity of the British government creating a beef with the U.N. over the linguistic  virtue  of referring to  pregnant women  as  pregnant people  so as not to  offend  any  trans  people (I ve never put so many sarcastic quotations in one sentence before now.) The Boiler gang is also discussing Twitter, Google, Facebook and Youtube suppressing freedom of speech in the U.S. while serving as a lapdog to the intelligence agencies and the left leaning technocrats to literally do social engineering (not kidding, that is in Mark Zuckerberg s own words.)Direct Download Episode #133 Please like and share the program and visit our donate page to get involved! Reference Links, for your consideration and research:'",
     "traceback": [
      "\u001b[0;31m---------------------------------------------------------------------------\u001b[0m",
      "\u001b[0;31mValueError\u001b[0m                                Traceback (most recent call last)",
      "\u001b[0;32m<ipython-input-35-3b2f908d578b>\u001b[0m in \u001b[0;36m<module>\u001b[0;34m\u001b[0m\n\u001b[1;32m      3\u001b[0m \u001b[0mNaive\u001b[0m \u001b[0;34m=\u001b[0m \u001b[0mMultinomialNB\u001b[0m\u001b[0;34m(\u001b[0m\u001b[0;34m)\u001b[0m\u001b[0;34m\u001b[0m\u001b[0;34m\u001b[0m\u001b[0m\n\u001b[1;32m      4\u001b[0m \u001b[0mNaive\u001b[0m\u001b[0;34m.\u001b[0m\u001b[0mfit\u001b[0m\u001b[0;34m(\u001b[0m\u001b[0mX_train_counts\u001b[0m\u001b[0;34m,\u001b[0m \u001b[0my_train\u001b[0m\u001b[0;34m)\u001b[0m\u001b[0;34m\u001b[0m\u001b[0;34m\u001b[0m\u001b[0m\n\u001b[0;32m----> 5\u001b[0;31m \u001b[0mpredictions_NB\u001b[0m \u001b[0;34m=\u001b[0m \u001b[0mNaive\u001b[0m\u001b[0;34m.\u001b[0m\u001b[0mpredict\u001b[0m\u001b[0;34m(\u001b[0m\u001b[0mX_test\u001b[0m\u001b[0;34m)\u001b[0m\u001b[0;34m\u001b[0m\u001b[0;34m\u001b[0m\u001b[0m\n\u001b[0m\u001b[1;32m      6\u001b[0m \u001b[0mprint\u001b[0m\u001b[0;34m(\u001b[0m\u001b[0mpredictions_NB\u001b[0m\u001b[0;34m)\u001b[0m\u001b[0;34m\u001b[0m\u001b[0;34m\u001b[0m\u001b[0m\n",
      "\u001b[0;32m~/.local/lib/python3.8/site-packages/sklearn/naive_bayes.py\u001b[0m in \u001b[0;36mpredict\u001b[0;34m(self, X)\u001b[0m\n\u001b[1;32m     75\u001b[0m         \"\"\"\n\u001b[1;32m     76\u001b[0m         \u001b[0mcheck_is_fitted\u001b[0m\u001b[0;34m(\u001b[0m\u001b[0mself\u001b[0m\u001b[0;34m)\u001b[0m\u001b[0;34m\u001b[0m\u001b[0;34m\u001b[0m\u001b[0m\n\u001b[0;32m---> 77\u001b[0;31m         \u001b[0mX\u001b[0m \u001b[0;34m=\u001b[0m \u001b[0mself\u001b[0m\u001b[0;34m.\u001b[0m\u001b[0m_check_X\u001b[0m\u001b[0;34m(\u001b[0m\u001b[0mX\u001b[0m\u001b[0;34m)\u001b[0m\u001b[0;34m\u001b[0m\u001b[0;34m\u001b[0m\u001b[0m\n\u001b[0m\u001b[1;32m     78\u001b[0m         \u001b[0mjll\u001b[0m \u001b[0;34m=\u001b[0m \u001b[0mself\u001b[0m\u001b[0;34m.\u001b[0m\u001b[0m_joint_log_likelihood\u001b[0m\u001b[0;34m(\u001b[0m\u001b[0mX\u001b[0m\u001b[0;34m)\u001b[0m\u001b[0;34m\u001b[0m\u001b[0;34m\u001b[0m\u001b[0m\n\u001b[1;32m     79\u001b[0m         \u001b[0;32mreturn\u001b[0m \u001b[0mself\u001b[0m\u001b[0;34m.\u001b[0m\u001b[0mclasses_\u001b[0m\u001b[0;34m[\u001b[0m\u001b[0mnp\u001b[0m\u001b[0;34m.\u001b[0m\u001b[0margmax\u001b[0m\u001b[0;34m(\u001b[0m\u001b[0mjll\u001b[0m\u001b[0;34m,\u001b[0m \u001b[0maxis\u001b[0m\u001b[0;34m=\u001b[0m\u001b[0;36m1\u001b[0m\u001b[0;34m)\u001b[0m\u001b[0;34m]\u001b[0m\u001b[0;34m\u001b[0m\u001b[0;34m\u001b[0m\u001b[0m\n",
      "\u001b[0;32m~/.local/lib/python3.8/site-packages/sklearn/naive_bayes.py\u001b[0m in \u001b[0;36m_check_X\u001b[0;34m(self, X)\u001b[0m\n\u001b[1;32m    475\u001b[0m \u001b[0;34m\u001b[0m\u001b[0m\n\u001b[1;32m    476\u001b[0m     \u001b[0;32mdef\u001b[0m \u001b[0m_check_X\u001b[0m\u001b[0;34m(\u001b[0m\u001b[0mself\u001b[0m\u001b[0;34m,\u001b[0m \u001b[0mX\u001b[0m\u001b[0;34m)\u001b[0m\u001b[0;34m:\u001b[0m\u001b[0;34m\u001b[0m\u001b[0;34m\u001b[0m\u001b[0m\n\u001b[0;32m--> 477\u001b[0;31m         \u001b[0;32mreturn\u001b[0m \u001b[0mcheck_array\u001b[0m\u001b[0;34m(\u001b[0m\u001b[0mX\u001b[0m\u001b[0;34m,\u001b[0m \u001b[0maccept_sparse\u001b[0m\u001b[0;34m=\u001b[0m\u001b[0;34m'csr'\u001b[0m\u001b[0;34m)\u001b[0m\u001b[0;34m\u001b[0m\u001b[0;34m\u001b[0m\u001b[0m\n\u001b[0m\u001b[1;32m    478\u001b[0m \u001b[0;34m\u001b[0m\u001b[0m\n\u001b[1;32m    479\u001b[0m     \u001b[0;32mdef\u001b[0m \u001b[0m_check_X_y\u001b[0m\u001b[0;34m(\u001b[0m\u001b[0mself\u001b[0m\u001b[0;34m,\u001b[0m \u001b[0mX\u001b[0m\u001b[0;34m,\u001b[0m \u001b[0my\u001b[0m\u001b[0;34m)\u001b[0m\u001b[0;34m:\u001b[0m\u001b[0;34m\u001b[0m\u001b[0;34m\u001b[0m\u001b[0m\n",
      "\u001b[0;32m~/.local/lib/python3.8/site-packages/sklearn/utils/validation.py\u001b[0m in \u001b[0;36minner_f\u001b[0;34m(*args, **kwargs)\u001b[0m\n\u001b[1;32m     71\u001b[0m                           FutureWarning)\n\u001b[1;32m     72\u001b[0m         \u001b[0mkwargs\u001b[0m\u001b[0;34m.\u001b[0m\u001b[0mupdate\u001b[0m\u001b[0;34m(\u001b[0m\u001b[0;34m{\u001b[0m\u001b[0mk\u001b[0m\u001b[0;34m:\u001b[0m \u001b[0marg\u001b[0m \u001b[0;32mfor\u001b[0m \u001b[0mk\u001b[0m\u001b[0;34m,\u001b[0m \u001b[0marg\u001b[0m \u001b[0;32min\u001b[0m \u001b[0mzip\u001b[0m\u001b[0;34m(\u001b[0m\u001b[0msig\u001b[0m\u001b[0;34m.\u001b[0m\u001b[0mparameters\u001b[0m\u001b[0;34m,\u001b[0m \u001b[0margs\u001b[0m\u001b[0;34m)\u001b[0m\u001b[0;34m}\u001b[0m\u001b[0;34m)\u001b[0m\u001b[0;34m\u001b[0m\u001b[0;34m\u001b[0m\u001b[0m\n\u001b[0;32m---> 73\u001b[0;31m         \u001b[0;32mreturn\u001b[0m \u001b[0mf\u001b[0m\u001b[0;34m(\u001b[0m\u001b[0;34m**\u001b[0m\u001b[0mkwargs\u001b[0m\u001b[0;34m)\u001b[0m\u001b[0;34m\u001b[0m\u001b[0;34m\u001b[0m\u001b[0m\n\u001b[0m\u001b[1;32m     74\u001b[0m     \u001b[0;32mreturn\u001b[0m \u001b[0minner_f\u001b[0m\u001b[0;34m\u001b[0m\u001b[0;34m\u001b[0m\u001b[0m\n\u001b[1;32m     75\u001b[0m \u001b[0;34m\u001b[0m\u001b[0m\n",
      "\u001b[0;32m~/.local/lib/python3.8/site-packages/sklearn/utils/validation.py\u001b[0m in \u001b[0;36mcheck_array\u001b[0;34m(array, accept_sparse, accept_large_sparse, dtype, order, copy, force_all_finite, ensure_2d, allow_nd, ensure_min_samples, ensure_min_features, estimator)\u001b[0m\n\u001b[1;32m    597\u001b[0m                     \u001b[0marray\u001b[0m \u001b[0;34m=\u001b[0m \u001b[0marray\u001b[0m\u001b[0;34m.\u001b[0m\u001b[0mastype\u001b[0m\u001b[0;34m(\u001b[0m\u001b[0mdtype\u001b[0m\u001b[0;34m,\u001b[0m \u001b[0mcasting\u001b[0m\u001b[0;34m=\u001b[0m\u001b[0;34m\"unsafe\"\u001b[0m\u001b[0;34m,\u001b[0m \u001b[0mcopy\u001b[0m\u001b[0;34m=\u001b[0m\u001b[0;32mFalse\u001b[0m\u001b[0;34m)\u001b[0m\u001b[0;34m\u001b[0m\u001b[0;34m\u001b[0m\u001b[0m\n\u001b[1;32m    598\u001b[0m                 \u001b[0;32melse\u001b[0m\u001b[0;34m:\u001b[0m\u001b[0;34m\u001b[0m\u001b[0;34m\u001b[0m\u001b[0m\n\u001b[0;32m--> 599\u001b[0;31m                     \u001b[0marray\u001b[0m \u001b[0;34m=\u001b[0m \u001b[0mnp\u001b[0m\u001b[0;34m.\u001b[0m\u001b[0masarray\u001b[0m\u001b[0;34m(\u001b[0m\u001b[0marray\u001b[0m\u001b[0;34m,\u001b[0m \u001b[0morder\u001b[0m\u001b[0;34m=\u001b[0m\u001b[0morder\u001b[0m\u001b[0;34m,\u001b[0m \u001b[0mdtype\u001b[0m\u001b[0;34m=\u001b[0m\u001b[0mdtype\u001b[0m\u001b[0;34m)\u001b[0m\u001b[0;34m\u001b[0m\u001b[0;34m\u001b[0m\u001b[0m\n\u001b[0m\u001b[1;32m    600\u001b[0m             \u001b[0;32mexcept\u001b[0m \u001b[0mComplexWarning\u001b[0m\u001b[0;34m:\u001b[0m\u001b[0;34m\u001b[0m\u001b[0;34m\u001b[0m\u001b[0m\n\u001b[1;32m    601\u001b[0m                 raise ValueError(\"Complex data not supported\\n\"\n",
      "\u001b[0;32m~/.local/lib/python3.8/site-packages/numpy/core/_asarray.py\u001b[0m in \u001b[0;36masarray\u001b[0;34m(a, dtype, order)\u001b[0m\n\u001b[1;32m     81\u001b[0m \u001b[0;34m\u001b[0m\u001b[0m\n\u001b[1;32m     82\u001b[0m     \"\"\"\n\u001b[0;32m---> 83\u001b[0;31m     \u001b[0;32mreturn\u001b[0m \u001b[0marray\u001b[0m\u001b[0;34m(\u001b[0m\u001b[0ma\u001b[0m\u001b[0;34m,\u001b[0m \u001b[0mdtype\u001b[0m\u001b[0;34m,\u001b[0m \u001b[0mcopy\u001b[0m\u001b[0;34m=\u001b[0m\u001b[0;32mFalse\u001b[0m\u001b[0;34m,\u001b[0m \u001b[0morder\u001b[0m\u001b[0;34m=\u001b[0m\u001b[0morder\u001b[0m\u001b[0;34m)\u001b[0m\u001b[0;34m\u001b[0m\u001b[0;34m\u001b[0m\u001b[0m\n\u001b[0m\u001b[1;32m     84\u001b[0m \u001b[0;34m\u001b[0m\u001b[0m\n\u001b[1;32m     85\u001b[0m \u001b[0;34m\u001b[0m\u001b[0m\n",
      "\u001b[0;31mValueError\u001b[0m: could not convert string to float: 'Tune in to the Alternate Current Radio Network (ACR) for another LIVE broadcast of  The Boiler Room  tonight 6:00 PM PST | 8:00 PM CST | 9:00 PM EST for this special broadcast. Join us for uncensored, uninterruptible talk radio, custom-made for bar fly philosophers, misguided moralists, masochists, street corner evangelists, media-maniacs, savants, political animals and otherwise lovable rascals.Join ACR hosts Hesher and Spore along side Jay Dyer of Jays Analysis, Daniel Spaulding (of Soul of the East) Andy Nowicki (The Nameless One.) Randy J & Fvnk$oul (ACR & 21Wire Contributors) for the hundred and thirty third episode of BOILER ROOM. Turn it up, tune in and hang with the ACR Brain-Trust for this weeks boil downs and analysis and the usual gnashing of the teeth of the political animals in the social reject club.On this episode of Boiler Room the ACR Brain-Trust is kicking back with a Halloween vibe, discussing the absurdity of the British government creating a beef with the U.N. over the linguistic  virtue  of referring to  pregnant women  as  pregnant people  so as not to  offend  any  trans  people (I ve never put so many sarcastic quotations in one sentence before now.) The Boiler gang is also discussing Twitter, Google, Facebook and Youtube suppressing freedom of speech in the U.S. while serving as a lapdog to the intelligence agencies and the left leaning technocrats to literally do social engineering (not kidding, that is in Mark Zuckerberg s own words.)Direct Download Episode #133 Please like and share the program and visit our donate page to get involved! Reference Links, for your consideration and research:'"
     ]
    }
   ],
   "source": [
    "from sklearn.naive_bayes import MultinomialNB\n",
    "from sklearn.metrics import accuracy_score\n",
    "Naive = MultinomialNB()\n",
    "Naive.fit(X_train_counts, y_train)\n",
    "predictions_NB = Naive.predict(X_test)"
   ]
  },
  {
   "cell_type": "code",
   "execution_count": 39,
   "metadata": {
    "tags": []
   },
   "outputs": [
    {
     "output_type": "stream",
     "name": "stdout",
     "text": "[0]\n"
    }
   ],
   "source": [
    "onion = [\"\"\"Expressing a sense of betrayal over the Middle Eastern country not coming to them first, U.S. officials told reporters Thursday they were hurt that Saudi Arabia would try to develop its own nuclear weapon rather than just asking nicely for one from America. “We would have been glad to help them out, but when they go behind our backs like this and learn yellowcake extraction techniques from the Chinese—well, it feels pretty awful,” said Secretary of State Mike Pompeo, adding that the United States couldn’t assist the Saudis’ rise as a nuclear power if they kept their pursuit of fissile materials all to themselves. “If they had simply mentioned it during arms negotiations, we would have happily thrown in a miniaturized nuclear warhead, maybe even an ICBM to sweeten the pot. What hurts most is that they felt they couldn’t be open and honest with us. I keep asking myself, did we do something wrong? We’ve never said no to any of their requests for weapons in the past.” At press time, Pompeo reportedly tried to patch things up by sending Saudi Crown Prince Mohammed bin Salman a care package of uranium centrifuge blueprints.\"\"\"]\n",
    "onion_vec = count_vector.transform(onion)\n",
    "predict_onion = Naive.predict(onion_vec)\n",
    "print(predict_onion)"
   ]
  },
  {
   "cell_type": "code",
   "execution_count": 32,
   "metadata": {
    "tags": []
   },
   "outputs": [
    {
     "output_type": "stream",
     "name": "stdout",
     "text": "[0]\n"
    }
   ],
   "source": [
    "nyt = [\"\"\"Two top congressional Democrats opened an investigation on Saturday into President Trump’s removal of \n",
    "          Steve A. Linick, who led the office of the inspector general at the State Department, citing a pattern \n",
    "          of “politically-motivated firing of inspectors general.” Mr. Trump told Speaker Nancy Pelosi late \n",
    "          Friday night that he was ousting Mr. Linick, who was named by President Barack Obama to the State \n",
    "          Department post, and replacing him with an ambassador with close ties to Vice President Mike Pence in \n",
    "          the latest purge of inspectors general whom Mr. Trump has deemed insufficiently loyal to his \n",
    "          administration. In letters to the White House, State Department, and Mr. Linick, Representative Eliot \n",
    "          L. Engel of New York, the chairman of the House Foreign Affairs Committee, and Senator Bob Menendez of \n",
    "          New Jersey, the top Democrat on the Senate Foreign Relations Committee, requested that the administration\n",
    "          turn over records and information related to the firing of Mr. Linick as well as “records of all I.G. \n",
    "          investigations involving the Office of the Secretary that were open, pending, or incomplete at the \n",
    "          time of Mr. Linick’s firing.” Mr. Engel and Mr. Menendez said in their letters that they believe \n",
    "          Secretary of State Mike Pompeo recommended Mr. Linick’s ouster because he had opened an investigation \n",
    "          into Mr. Pompeo’s conduct. The lawmakers did not provide any more details, but a Democratic aide said \n",
    "          that Mr. Linick had been looking into whether Mr. Pompeo had misused a political appointee at the State \n",
    "          Department to perform personal tasks for himself and his wife. “Such an action, transparently designed to\n",
    "          protect Secretary Pompeo from personal accountability, would undermine the foundation of our democratic \n",
    "          institutions and may be an illegal act of retaliation,” the lawmakers wrote. Under law, the administration\n",
    "          must notify Congress 30 days before formally terminating an inspector general. Mr. Linick is expected to \n",
    "          leave his post then. Mr. Trump’s decision to remove Mr. Linick is the latest in a series of ousters aimed\n",
    "          at inspectors general who the president and his allies believe are opposed to his agenda. In May, Mr. \n",
    "          Trump moved to oust Christi A. Grimm, the principal deputy inspector general for the Department of Health\n",
    "          and Human Services, whose office had issued a report revealing the dire state of the nation’s response to\n",
    "          the pathogen. He has also taken steps to remove two other inspectors general, for the intelligence\n",
    "          community and for the Defense Department. Mr. Linick was spotlighted during the impeachment inquiry when \n",
    "          he requested an urgent meeting with congressional staff members to give them copies of documents related \n",
    "          to the State Department and Ukraine, signaling they could be relevant to the House investigation into \n",
    "          whether President Trump pressured Ukraine to investigate former Vice President Joseph R. Biden Jr. and \n",
    "          his son Hunter Biden. The documents — a record of contacts between Rudolph W. Giuliani, the president’s \n",
    "          personal lawyer, and Ukrainian prosecutors, as well as accounts of Ukrainian law enforcement proceedings \n",
    "          — turned out to be largely inconsequential.\"\"\"]\n",
    "nyt_vec = count_vector.transform(nyt)\n",
    "predict_nyt = Naive.predict(nyt_vec)\n",
    "print(predict_nyt)"
   ]
  },
  {
   "cell_type": "code",
   "execution_count": null,
   "metadata": {},
   "outputs": [],
   "source": []
  }
 ]
}
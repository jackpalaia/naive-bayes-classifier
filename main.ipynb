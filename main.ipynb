{
 "metadata": {
  "language_info": {
   "codemirror_mode": {
    "name": "ipython",
    "version": 3
   },
   "file_extension": ".py",
   "mimetype": "text/x-python",
   "name": "python",
   "nbconvert_exporter": "python",
   "pygments_lexer": "ipython3",
   "version": 3
  },
  "orig_nbformat": 2,
  "kernelspec": {
   "name": "python_defaultSpec_1596582039774",
   "display_name": "Python 3.8.2 64-bit"
  }
 },
 "nbformat": 4,
 "nbformat_minor": 2,
 "cells": [
  {
   "cell_type": "code",
   "execution_count": 85,
   "metadata": {},
   "outputs": [],
   "source": [
    "import pandas as pd"
   ]
  },
  {
   "cell_type": "code",
   "execution_count": 86,
   "metadata": {},
   "outputs": [],
   "source": [
    "fake = pd.read_csv(\"Fake.csv\")\n",
    "true = pd.read_csv(\"True.csv\")\n",
    "true['fake_news'] = 0\n",
    "fake['fake_news'] = 1\n",
    "\n",
    "true_text = true['text']\n",
    "true_text = true_text.str.extractall(r\"^.*? - (?P<text>.*)\")\n",
    "true_text = true_text.droplevel(1)\n",
    "true['text'] = true_text\n",
    "\n",
    "df = pd.concat([fake, true], axis=0)\n",
    "df = df.drop(['title', 'subject', 'date'], axis=1)\n",
    "df = df.dropna(axis=0)\n",
    "clean_text = df.to_csv('cleaned_news.csv', index=False)"
   ]
  },
  {
   "cell_type": "code",
   "execution_count": 87,
   "metadata": {
    "tags": []
   },
   "outputs": [
    {
     "output_type": "execute_result",
     "data": {
      "text/plain": "                                                    text  fake_news\n0      Donald Trump just couldn t wish all Americans ...          1\n1      House Intelligence Committee Chairman Devin Nu...          1\n2      On Friday, it was revealed that former Milwauk...          1\n3      On Christmas day, Donald Trump announced that ...          1\n4      Pope Francis used his annual Christmas Day mes...          1\n...                                                  ...        ...\n21412  NATO allies on Tuesday welcomed President Dona...          0\n21413  LexisNexis, a provider of legal, regulatory an...          0\n21414  In the shadow of disused Soviet-era factories ...          0\n21415  Vatican Secretary of State Cardinal Pietro Par...          0\n21416  Indonesia will buy 11 Sukhoi fighter jets wort...          0\n\n[44869 rows x 2 columns]",
      "text/html": "<div>\n<style scoped>\n    .dataframe tbody tr th:only-of-type {\n        vertical-align: middle;\n    }\n\n    .dataframe tbody tr th {\n        vertical-align: top;\n    }\n\n    .dataframe thead th {\n        text-align: right;\n    }\n</style>\n<table border=\"1\" class=\"dataframe\">\n  <thead>\n    <tr style=\"text-align: right;\">\n      <th></th>\n      <th>text</th>\n      <th>fake_news</th>\n    </tr>\n  </thead>\n  <tbody>\n    <tr>\n      <th>0</th>\n      <td>Donald Trump just couldn t wish all Americans ...</td>\n      <td>1</td>\n    </tr>\n    <tr>\n      <th>1</th>\n      <td>House Intelligence Committee Chairman Devin Nu...</td>\n      <td>1</td>\n    </tr>\n    <tr>\n      <th>2</th>\n      <td>On Friday, it was revealed that former Milwauk...</td>\n      <td>1</td>\n    </tr>\n    <tr>\n      <th>3</th>\n      <td>On Christmas day, Donald Trump announced that ...</td>\n      <td>1</td>\n    </tr>\n    <tr>\n      <th>4</th>\n      <td>Pope Francis used his annual Christmas Day mes...</td>\n      <td>1</td>\n    </tr>\n    <tr>\n      <th>...</th>\n      <td>...</td>\n      <td>...</td>\n    </tr>\n    <tr>\n      <th>21412</th>\n      <td>NATO allies on Tuesday welcomed President Dona...</td>\n      <td>0</td>\n    </tr>\n    <tr>\n      <th>21413</th>\n      <td>LexisNexis, a provider of legal, regulatory an...</td>\n      <td>0</td>\n    </tr>\n    <tr>\n      <th>21414</th>\n      <td>In the shadow of disused Soviet-era factories ...</td>\n      <td>0</td>\n    </tr>\n    <tr>\n      <th>21415</th>\n      <td>Vatican Secretary of State Cardinal Pietro Par...</td>\n      <td>0</td>\n    </tr>\n    <tr>\n      <th>21416</th>\n      <td>Indonesia will buy 11 Sukhoi fighter jets wort...</td>\n      <td>0</td>\n    </tr>\n  </tbody>\n</table>\n<p>44869 rows × 2 columns</p>\n</div>"
     },
     "metadata": {},
     "execution_count": 87
    }
   ],
   "source": [
    "df"
   ]
  },
  {
   "cell_type": "code",
   "execution_count": null,
   "metadata": {},
   "outputs": [],
   "source": []
  }
 ]
}
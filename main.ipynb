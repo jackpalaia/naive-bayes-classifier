{
 "metadata": {
  "language_info": {
   "codemirror_mode": {
    "name": "ipython",
    "version": 3
   },
   "file_extension": ".py",
   "mimetype": "text/x-python",
   "name": "python",
   "nbconvert_exporter": "python",
   "pygments_lexer": "ipython3",
   "version": 3
  },
  "orig_nbformat": 2,
  "kernelspec": {
   "name": "python_defaultSpec_1596582039774",
   "display_name": "Python 3.8.2 64-bit"
  }
 },
 "nbformat": 4,
 "nbformat_minor": 2,
 "cells": [
  {
   "cell_type": "code",
   "execution_count": 91,
   "metadata": {},
   "outputs": [],
   "source": [
    "import pandas as pd"
   ]
  },
  {
   "cell_type": "code",
   "execution_count": 92,
   "metadata": {},
   "outputs": [],
   "source": [
    "fake = pd.read_csv(\"data/Fake.csv\")\n",
    "true = pd.read_csv(\"data/True.csv\")\n",
    "true['fake_news'] = 0\n",
    "fake['fake_news'] = 1\n",
    "\n",
    "true_text = true['text']\n",
    "true_text = true_text.str.extractall(r\"^.*? - (?P<text>.*)\")\n",
    "true_text = true_text.droplevel(1)\n",
    "true['text'] = true_text\n",
    "\n",
    "df = pd.concat([fake, true], axis=0)\n",
    "df = df.drop(['title', 'subject', 'date'], axis=1)\n",
    "df = df.dropna(axis=0)\n",
    "clean_text = df.to_csv('data/cleaned_news.csv', index=False)"
   ]
  },
  {
   "cell_type": "code",
   "execution_count": 94,
   "metadata": {
    "tags": []
   },
   "outputs": [],
   "source": [
    "clean_text"
   ]
  },
  {
   "cell_type": "code",
   "execution_count": null,
   "metadata": {},
   "outputs": [],
   "source": []
  }
 ]
}